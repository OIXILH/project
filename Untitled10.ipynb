{
  "nbformat": 4,
  "nbformat_minor": 0,
  "metadata": {
    "colab": {
      "name": "Untitled10.ipynb",
      "provenance": [],
      "authorship_tag": "ABX9TyN0QkfQlMY0+g6oRZ2cDjEn",
      "include_colab_link": true
    },
    "kernelspec": {
      "name": "python3",
      "display_name": "Python 3"
    },
    "language_info": {
      "name": "python"
    }
  },
  "cells": [
    {
      "cell_type": "markdown",
      "metadata": {
        "id": "view-in-github",
        "colab_type": "text"
      },
      "source": [
        "<a href=\"https://colab.research.google.com/github/OIXILH/project/blob/main/Untitled10.ipynb\" target=\"_parent\"><img src=\"https://colab.research.google.com/assets/colab-badge.svg\" alt=\"Open In Colab\"/></a>"
      ]
    },
    {
      "cell_type": "code",
      "metadata": {
        "id": "TbmoVo23hWLw"
      },
      "source": [
        "import numpy as np\n",
        "import pandas as pd"
      ],
      "execution_count": 1,
      "outputs": []
    },
    {
      "cell_type": "code",
      "metadata": {
        "colab": {
          "base_uri": "https://localhost:8080/",
          "height": 238
        },
        "id": "Q1YxxXSYhX_T",
        "outputId": "232cf01c-3976-4b7d-afb8-015cc6e024bf"
      },
      "source": [
        "df1 = pd.read_csv('https://raw.githubusercontent.com/OIXILH/project/main/by%20ethnicity%20and%20age%20group-table.csv')\n",
        "df2= pd.read_csv('https://raw.githubusercontent.com/OIXILH/project/main/by%20ethnicity%20and%20gender-table.csv')\n",
        "df2"
      ],
      "execution_count": 10,
      "outputs": [
        {
          "output_type": "execute_result",
          "data": {
            "text/html": [
              "<div>\n",
              "<style scoped>\n",
              "    .dataframe tbody tr th:only-of-type {\n",
              "        vertical-align: middle;\n",
              "    }\n",
              "\n",
              "    .dataframe tbody tr th {\n",
              "        vertical-align: top;\n",
              "    }\n",
              "\n",
              "    .dataframe thead th {\n",
              "        text-align: right;\n",
              "    }\n",
              "</style>\n",
              "<table border=\"1\" class=\"dataframe\">\n",
              "  <thead>\n",
              "    <tr style=\"text-align: right;\">\n",
              "      <th></th>\n",
              "      <th>Unnamed: 0</th>\n",
              "      <th>All</th>\n",
              "      <th>Unnamed: 2</th>\n",
              "      <th>Female</th>\n",
              "      <th>Unnamed: 4</th>\n",
              "      <th>Male</th>\n",
              "      <th>Unnamed: 6</th>\n",
              "    </tr>\n",
              "  </thead>\n",
              "  <tbody>\n",
              "    <tr>\n",
              "      <th>0</th>\n",
              "      <td>Ethnicity</td>\n",
              "      <td>%</td>\n",
              "      <td>Sample size</td>\n",
              "      <td>%</td>\n",
              "      <td>Sample size</td>\n",
              "      <td>%</td>\n",
              "      <td>Sample size</td>\n",
              "    </tr>\n",
              "    <tr>\n",
              "      <th>1</th>\n",
              "      <td>Asian</td>\n",
              "      <td>15</td>\n",
              "      <td>6,156</td>\n",
              "      <td>15</td>\n",
              "      <td>3,080</td>\n",
              "      <td>15</td>\n",
              "      <td>3,076</td>\n",
              "    </tr>\n",
              "    <tr>\n",
              "      <th>2</th>\n",
              "      <td>Black</td>\n",
              "      <td>15</td>\n",
              "      <td>2,855</td>\n",
              "      <td>16</td>\n",
              "      <td>1,697</td>\n",
              "      <td>14</td>\n",
              "      <td>1,158</td>\n",
              "    </tr>\n",
              "    <tr>\n",
              "      <th>3</th>\n",
              "      <td>Mixed</td>\n",
              "      <td>20</td>\n",
              "      <td>1,163</td>\n",
              "      <td>19</td>\n",
              "      <td>649</td>\n",
              "      <td>21</td>\n",
              "      <td>514</td>\n",
              "    </tr>\n",
              "    <tr>\n",
              "      <th>4</th>\n",
              "      <td>White</td>\n",
              "      <td>14</td>\n",
              "      <td>91,345</td>\n",
              "      <td>14</td>\n",
              "      <td>49,258</td>\n",
              "      <td>14</td>\n",
              "      <td>42,087</td>\n",
              "    </tr>\n",
              "    <tr>\n",
              "      <th>5</th>\n",
              "      <td>Other</td>\n",
              "      <td>16</td>\n",
              "      <td>862</td>\n",
              "      <td>17</td>\n",
              "      <td>436</td>\n",
              "      <td>15</td>\n",
              "      <td>426</td>\n",
              "    </tr>\n",
              "  </tbody>\n",
              "</table>\n",
              "</div>"
            ],
            "text/plain": [
              "  Unnamed: 0 All   Unnamed: 2 Female   Unnamed: 4 Male   Unnamed: 6\n",
              "0  Ethnicity   %  Sample size      %  Sample size    %  Sample size\n",
              "1      Asian  15        6,156     15        3,080   15        3,076\n",
              "2      Black  15        2,855     16        1,697   14        1,158\n",
              "3      Mixed  20        1,163     19          649   21          514\n",
              "4      White  14       91,345     14       49,258   14       42,087\n",
              "5      Other  16          862     17          436   15          426"
            ]
          },
          "metadata": {},
          "execution_count": 10
        }
      ]
    }
  ]
}